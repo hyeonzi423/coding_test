{
  "nbformat": 4,
  "nbformat_minor": 0,
  "metadata": {
    "colab": {
      "provenance": [],
      "authorship_tag": "ABX9TyMFnPcx5YFC7d2jzyN2TLl3",
      "include_colab_link": true
    },
    "kernelspec": {
      "name": "python3",
      "display_name": "Python 3"
    },
    "language_info": {
      "name": "python"
    }
  },
  "cells": [
    {
      "cell_type": "markdown",
      "metadata": {
        "id": "view-in-github",
        "colab_type": "text"
      },
      "source": [
        "<a href=\"https://colab.research.google.com/github/hyeonzi423/groom/blob/main/%EA%B3%B5%ED%86%B5%EC%A7%80%EC%9D%B8.ipynb\" target=\"_parent\"><img src=\"https://colab.research.google.com/assets/colab-badge.svg\" alt=\"Open In Colab\"/></a>"
      ]
    },
    {
      "cell_type": "code",
      "execution_count": null,
      "metadata": {
        "id": "MUWgtUM3Qs-6"
      },
      "outputs": [],
      "source": [
        "# -*- coding: utf-8 -*-\n",
        "# UTF-8 encoding when using korean\n",
        "user_input = input()\n",
        "person1, person2 = map(int, user_input.split())\n",
        "person1_list = []\n",
        "person2_list = []\n",
        "common = []\n",
        "\n",
        "\n",
        "for i in range(person1 + person2):\n",
        "\tif i < person1:\n",
        "\t\tperson1_list.append(str(input()))\n",
        "\telse:\n",
        "\t\tperson2_list.append(str(input()))\n",
        "\t\t\n",
        "for x in range(len(person1_list)):\n",
        "\tfor y in range(len(person2_list)):\n",
        "\t\tif str(person1_list[x]) == str(person2_list[y]):\n",
        "\t\t\tcommon.append(person1_list[x])\n",
        "\t\n",
        "common.sort()\n",
        "\n",
        "for i in common:\n",
        "\tprint(i)"
      ]
    }
  ]
}

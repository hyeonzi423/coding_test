{
  "nbformat": 4,
  "nbformat_minor": 0,
  "metadata": {
    "colab": {
      "provenance": [],
      "authorship_tag": "ABX9TyPxPN8787hlkJWdcdn0oxfM",
      "include_colab_link": true
    },
    "kernelspec": {
      "name": "python3",
      "display_name": "Python 3"
    },
    "language_info": {
      "name": "python"
    }
  },
  "cells": [
    {
      "cell_type": "markdown",
      "metadata": {
        "id": "view-in-github",
        "colab_type": "text"
      },
      "source": [
        "<a href=\"https://colab.research.google.com/github/hyeonzi423/coding_test/blob/main/%EC%9D%B8%EC%8B%B8%EA%B0%80_%EB%90%98%EA%B3%A0_%EC%8B%B6%EC%9D%80_%EB%AF%BC%EC%88%98.ipynb\" target=\"_parent\"><img src=\"https://colab.research.google.com/assets/colab-badge.svg\" alt=\"Open In Colab\"/></a>"
      ]
    },
    {
      "cell_type": "code",
      "execution_count": null,
      "metadata": {
        "id": "fkH9WhUVni19"
      },
      "outputs": [],
      "source": [
        "'''\n",
        "첫 줄에 정수 a, b가 주어지는데, a와 b를 포함하여 사이에 있는 모든 정수의 약수를 적었을 때 \n",
        "1을 제외하고 가장 많이 등장하는 약수를 구하시오.\n",
        "출처: 구름 비타 알고\n",
        "'''"
      ]
    },
    {
      "cell_type": "code",
      "source": [
        "# 1차 시도\n",
        "user_input = input()\n",
        "start, end = map(int, user_input.split())\n",
        "\n",
        "divisor = []\n",
        "for num in range(start, end + 1):\n",
        "\tfor i in range(1, num + 1):\n",
        "\t\tif num % i == 0:\n",
        "\t\t\tdivisor.append(i)\n",
        "\n",
        "div = list(set(divisor))\n",
        "div_count = []\n",
        "for i in range(len(div)):\n",
        "\tdiv_count.append(divisor.count(div[i]))\n",
        "\n",
        "x1_div_count = div_count[1:]\n",
        "max_index = x1_div_count.index(max(x1_div_count))\n",
        "print(div[max_index + 1])"
      ],
      "metadata": {
        "id": "PEoW5tBWnoDv"
      },
      "execution_count": null,
      "outputs": []
    },
    {
      "cell_type": "code",
      "source": [
        "# 2차 시도\n",
        "user_input = input()\n",
        "start, end = map(int, user_input.split())\n",
        "\n",
        "divisor = []\n",
        "for num in range(start, end + 1):\n",
        "\tfor i in range(1, int(num**(1/2)) + 1):\n",
        "\t\tif num % i == 0:\n",
        "\t\t\tdivisor.append(i)\n",
        "\t\t\tif ((i**2) != num) :\n",
        "\t\t\t\tdivisor.append(num//i)\n",
        "\n",
        "div = list(set(divisor))\n",
        "div.remove(1)\n",
        "div_count = []\n",
        "for i in range(len(div)):\n",
        "\tdiv_count.append(divisor.count(div[i]))\n",
        "\n",
        "max_index = div_count.index(max(div_count))\n",
        "print(div[max_index])"
      ],
      "metadata": {
        "id": "pOA1dZEMnsG3"
      },
      "execution_count": null,
      "outputs": []
    },
    {
      "cell_type": "code",
      "source": [
        "# 3차 시도\n",
        "user_input = input()\n",
        "start, end = map(int, user_input.split())\n",
        "stop = True\n",
        "\n",
        "if start != end:\n",
        "\tprint(2)\n",
        "else:\n",
        "\tfor i in range(2, int(start**(1/2)) + 1):\n",
        "\t\tif start % i == 0:\n",
        "\t\t\tprint(i)\n",
        "\t\t\tstop = False\n",
        "\t\t\tbreak\n",
        "\tif stop == True:\n",
        "\t\t\tprint(start)"
      ],
      "metadata": {
        "id": "2rOIaIdPnvQF"
      },
      "execution_count": null,
      "outputs": []
    },
    {
      "cell_type": "code",
      "source": [
        "'''\n",
        "\n",
        "입력\n",
        "19 29\n",
        "\n",
        "출력\n",
        "2\n",
        "\n",
        "입력\n",
        "349533413 349533413\n",
        "\n",
        "출력\n",
        "17\n",
        "\n",
        "입력\n",
        "11 11\n",
        "\n",
        "출력\n",
        "11\n",
        "\n",
        "​'''"
      ],
      "metadata": {
        "id": "7x-TcNMQnzpN"
      },
      "execution_count": null,
      "outputs": []
    },
    {
      "cell_type": "code",
      "source": [
        "'''\n",
        "두 수가 다르다면 1을 제외한 약수 중에 가장 많이 등장하는 수는 2이다.\n",
        "\n",
        "뭐라고 설명해야 할지는 잘 모르겠지만 어떻게 보면 당연하다 싶음.\n",
        "\n",
        "근데 난 그 과정을 코드로 표현해야 하는 줄 알고 했더니 349533413 같이 큰 수는 약수 판별하는 거만\n",
        "\n",
        "꽤 오랜 시간을 돌아야 하기 때문에 런타임 에러나 타임아웃이 발생한 것 같은데,\n",
        "\n",
        "그래서 두 수가 다르다면 그냥 2를 출력하도록 수정하고,\n",
        "\n",
        "두 수가 같으면 둘 중 하나의 약수만 확인하면 된다.\n",
        "\n",
        "그리고 그중 가장 작은 약수가 제일 많이 등장하기 때문에 2부터 반복문을 사용하여\n",
        "\n",
        "약수인지 판별하고 맞는다면 바로 break를 걸어 출력하고 프로그램 종료.\n",
        "\n",
        "만약 11처럼 약수가 1과 11 자신뿐인 수라면 자신이 출력되도록 마지막에 조건문을 걸어줬다.\n",
        "\n",
        "​'''"
      ],
      "metadata": {
        "id": "oKk3g0-WoACH"
      },
      "execution_count": null,
      "outputs": []
    }
  ]
}
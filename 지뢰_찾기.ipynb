{
  "nbformat": 4,
  "nbformat_minor": 0,
  "metadata": {
    "colab": {
      "provenance": [],
      "authorship_tag": "ABX9TyPOYwi+YnWMDYPcB4BdC/ev",
      "include_colab_link": true
    },
    "kernelspec": {
      "name": "python3",
      "display_name": "Python 3"
    },
    "language_info": {
      "name": "python"
    }
  },
  "cells": [
    {
      "cell_type": "markdown",
      "metadata": {
        "id": "view-in-github",
        "colab_type": "text"
      },
      "source": [
        "<a href=\"https://colab.research.google.com/github/hyeonzi423/coding_test/blob/main/%EC%A7%80%EB%A2%B0_%EC%B0%BE%EA%B8%B0.ipynb\" target=\"_parent\"><img src=\"https://colab.research.google.com/assets/colab-badge.svg\" alt=\"Open In Colab\"/></a>"
      ]
    },
    {
      "cell_type": "code",
      "execution_count": null,
      "metadata": {
        "id": "I9Z3st_Giqvh"
      },
      "outputs": [],
      "source": [
        "'''\n",
        "지뢰 찾기 게임은 M x N 매트릭스에 위치해 있는 지뢰를 찾는 게임이다.\n",
        "M x N 매트릭스 상의 격자(square)는 지뢰이거나 지뢰가 아니다.\n",
        "지뢰 격자는 *로 표시한다. 지뢰가 아닌 격자(square)는 숫자로 표시하며 \n",
        "그 숫자는 인접해 있는 지뢰의 수를 의미한다. (격자(sqaure)는 최대 8개의 인접한 지뢰를 가질 수 있다.)\n",
        "다음은 4x4 매트릭스에서 2개의 지뢰(*)를 표시하는 방법이다.\n",
        "출처 : www.programming-challenges.com\n",
        "'''"
      ]
    },
    {
      "cell_type": "code",
      "source": [
        "user_input = input()\n",
        "row, col = map(int, user_input.split())\n",
        "\n",
        "matrix = []\n",
        "for x in range(row):\n",
        "  matrix.append(list(input()))\n",
        "\n",
        "for i in range(row):\n",
        "  for j in range(col):\n",
        "    count = 0\n",
        "    if matrix[i][j] == \".\":\n",
        "      for a in range(i-1, i+2):\n",
        "        for b in range(j-1, j+2):\n",
        "          if not (a < 0 or b < 0 or a >= row or b >= col):\n",
        "            if matrix[a][b] == \"*\":\n",
        "              count += 1\n",
        "      matrix[i][j] = count\n",
        "      print(matrix[i][j], end = \"\")\n",
        "    else:\n",
        "      matrix[i][j] = \"*\"\n",
        "      print(matrix[i][j], end = \"\")\n",
        "  print( )"
      ],
      "metadata": {
        "colab": {
          "base_uri": "https://localhost:8080/"
        },
        "id": "IZXM0UnQjx_4",
        "outputId": "69d7b1fe-2b3a-437e-fd63-74a6be9743e0"
      },
      "execution_count": 4,
      "outputs": [
        {
          "output_type": "stream",
          "name": "stdout",
          "text": [
            "3 5\n",
            "**...\n",
            ".....\n",
            ".*...\n",
            "**100\n",
            "33200\n",
            "1*100\n"
          ]
        }
      ]
    },
    {
      "cell_type": "code",
      "source": [
        "'''\n",
        "\n",
        "예시\n",
        "\n",
        "입력1\n",
        "\n",
        "3 5\n",
        "**...\n",
        ".....\n",
        ".*...\n",
        "\n",
        "출력\n",
        "\n",
        "**100\n",
        "33200\n",
        "1*100\n",
        "\n",
        "'''"
      ],
      "metadata": {
        "id": "bajpLpPhjgQb"
      },
      "execution_count": null,
      "outputs": []
    }
  ]
}
{
  "nbformat": 4,
  "nbformat_minor": 0,
  "metadata": {
    "colab": {
      "provenance": [],
      "collapsed_sections": [],
      "authorship_tag": "ABX9TyPObjrO9nvhIknrpAJkOqyS",
      "include_colab_link": true
    },
    "kernelspec": {
      "name": "python3",
      "display_name": "Python 3"
    },
    "language_info": {
      "name": "python"
    }
  },
  "cells": [
    {
      "cell_type": "markdown",
      "metadata": {
        "id": "view-in-github",
        "colab_type": "text"
      },
      "source": [
        "<a href=\"https://colab.research.google.com/github/hyeonzi423/groom/blob/main/%EC%8A%A4%EB%82%98%EC%9D%B4%ED%8D%BC.ipynb\" target=\"_parent\"><img src=\"https://colab.research.google.com/assets/colab-badge.svg\" alt=\"Open In Colab\"/></a>"
      ]
    },
    {
      "cell_type": "code",
      "execution_count": null,
      "metadata": {
        "id": "zYN-6aK-zQA6"
      },
      "outputs": [],
      "source": [
        "n, m  = map(int, input().split())\n",
        "shot = 0\n",
        "\n",
        "for i in range(m):\n",
        "\tbug = input()\n",
        "\tbug_list = [i for i in bug]\n",
        "\tcheck = True\n",
        "\tfor j in range(len(bug_list) - 1, -1, -1):\n",
        "\t\tif bug_list[j] == '0' and check == True:\n",
        "\t\t\tpass\n",
        "\t\telif bug_list[j] == '1' and check == True:\n",
        "\t\t\tshot += 1\n",
        "\t\t\tif j - 1 >= 0 and bug_list[j - 1] == '0':\n",
        "\t\t\t\tcheck = False\n",
        "\t\telif bug_list[j] == '0' and check == False:\n",
        "\t\t\tbreak\n",
        "\t\telif check == False:\n",
        "\t\t\tbreak\n",
        "print(shot)"
      ]
    }
  ]
}
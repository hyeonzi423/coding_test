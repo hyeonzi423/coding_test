{
  "nbformat": 4,
  "nbformat_minor": 0,
  "metadata": {
    "colab": {
      "provenance": [],
      "authorship_tag": "ABX9TyO/i6LHn9Hs73jrYFTFP70g",
      "include_colab_link": true
    },
    "kernelspec": {
      "name": "python3",
      "display_name": "Python 3"
    },
    "language_info": {
      "name": "python"
    }
  },
  "cells": [
    {
      "cell_type": "markdown",
      "metadata": {
        "id": "view-in-github",
        "colab_type": "text"
      },
      "source": [
        "<a href=\"https://colab.research.google.com/github/hyeonzi423/groom/blob/main/%EC%8A%A4%EB%82%98%EC%9D%B4%ED%8D%BC.ipynb\" target=\"_parent\"><img src=\"https://colab.research.google.com/assets/colab-badge.svg\" alt=\"Open In Colab\"/></a>"
      ]
    },
    {
      "cell_type": "code",
      "execution_count": null,
      "metadata": {
        "id": "zYN-6aK-zQA6"
      },
      "outputs": [],
      "source": [
        "n, m  = map(int, input().split())\n",
        "shot = 0\n",
        "bush = []\n",
        "\n",
        "for i in range(m):\n",
        "\tbug = input()\n",
        "\tbug_list = [i for i in bug]\n",
        "\tbush.append(bug_list)\n",
        "\t\n",
        "\n",
        "for i in range(len(bush)):\n",
        "\tcheck = True\n",
        "\tfor j in range(len(bush[0]) - 1, -1, -1):\n",
        "\t\tif bush[i][j] == '0' and check == True:\n",
        "\t\t\tpass\n",
        "\t\telif bush[i][j] == '1' and check == True:\n",
        "\t\t\tshot += 1\n",
        "\t\t\tif j - 1 >= 0 and bush[i][j - 1] == '0':\n",
        "\t\t\t\tcheck = False\n",
        "\t\telif bush[i][j] == '0' and check == False:\n",
        "\t\t\tbreak\n",
        "\t\tif check == False:\n",
        "\t\t\tbreak\n",
        "print(shot)"
      ]
    }
  ]
}
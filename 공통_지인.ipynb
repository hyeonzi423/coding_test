{
  "nbformat": 4,
  "nbformat_minor": 0,
  "metadata": {
    "colab": {
      "provenance": [],
      "collapsed_sections": [],
      "authorship_tag": "ABX9TyMmGEwJjxLM4jQaYFpkR3eK",
      "include_colab_link": true
    },
    "kernelspec": {
      "name": "python3",
      "display_name": "Python 3"
    },
    "language_info": {
      "name": "python"
    }
  },
  "cells": [
    {
      "cell_type": "markdown",
      "metadata": {
        "id": "view-in-github",
        "colab_type": "text"
      },
      "source": [
        "<a href=\"https://colab.research.google.com/github/hyeonzi423/groom/blob/main/%EA%B3%B5%ED%86%B5_%EC%A7%80%EC%9D%B8.ipynb\" target=\"_parent\"><img src=\"https://colab.research.google.com/assets/colab-badge.svg\" alt=\"Open In Colab\"/></a>"
      ]
    },
    {
      "cell_type": "code",
      "execution_count": null,
      "metadata": {
        "id": "MUWgtUM3Qs-6"
      },
      "outputs": [],
      "source": [
        "user_input = input()\n",
        "person1, person2 = map(int, user_input.split())\n",
        "person1_list = []\n",
        "person2_list = []\n",
        "\n",
        "for i in range(person1 + person2):\n",
        "\tif i < person1:\n",
        "\t\tperson1_list.append(str(input()))\n",
        "\telse:\n",
        "\t\tperson2_list.append(str(input()))\n",
        "\t\t\n",
        "common = sorted(set(person1_list) & set(person2_list))\n",
        "\n",
        "if len(common) != 0:\n",
        "\tfor i in common:\n",
        "\t\tprint(i)\n",
        "else:\n",
        "\tprint(-1)"
      ]
    }
  ]
}
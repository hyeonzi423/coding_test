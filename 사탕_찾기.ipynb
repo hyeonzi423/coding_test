{
  "nbformat": 4,
  "nbformat_minor": 0,
  "metadata": {
    "colab": {
      "provenance": [],
      "collapsed_sections": [],
      "authorship_tag": "ABX9TyO5NlnMPtrz9cRVQaala2et",
      "include_colab_link": true
    },
    "kernelspec": {
      "name": "python3",
      "display_name": "Python 3"
    },
    "language_info": {
      "name": "python"
    }
  },
  "cells": [
    {
      "cell_type": "markdown",
      "metadata": {
        "id": "view-in-github",
        "colab_type": "text"
      },
      "source": [
        "<a href=\"https://colab.research.google.com/github/hyeonzi423/coding_test/blob/main/%EC%82%AC%ED%83%95_%EC%B0%BE%EA%B8%B0.ipynb\" target=\"_parent\"><img src=\"https://colab.research.google.com/assets/colab-badge.svg\" alt=\"Open In Colab\"/></a>"
      ]
    },
    {
      "cell_type": "code",
      "execution_count": 3,
      "metadata": {
        "colab": {
          "base_uri": "https://localhost:8080/"
        },
        "id": "s0OP314Ga7JK",
        "outputId": "231dda8e-a506-4748-89f7-10fe31a15627"
      },
      "outputs": [
        {
          "output_type": "stream",
          "name": "stdout",
          "text": [
            "5\n",
            "9 10 5 7 8 \n",
            "3\n"
          ]
        }
      ],
      "source": [
        "# -*- coding: utf-8 -*-\n",
        "# UTF-8 encoding when using korean\n",
        "game = int(input())\n",
        "candy = list(map(int, input().strip().split(\" \")))\n",
        "groom_win, friend_win = 0, 0\n",
        "\n",
        "for i in range (len(candy)):\n",
        "\tif candy[i] % 2 == 0:\n",
        "\t\tfriend_win += 1\n",
        "\telse:\n",
        "\t\tgroom_win += 1\n",
        "\n",
        "if groom_win == friend_win:\n",
        "\tprint(\"tie\")\n",
        "elif groom_win > friend_win:\n",
        "\tprint(groom_win)\n",
        "else:\n",
        "\tprint(friend_win)"
      ]
    },
    {
      "cell_type": "code",
      "source": [
        "'''\n",
        "예시 1\n",
        "\n",
        "입력\n",
        "5\n",
        "9 10 5 7 8\n",
        "\n",
        "출력\n",
        "3\n",
        "\n",
        "'''"
      ],
      "metadata": {
        "colab": {
          "base_uri": "https://localhost:8080/",
          "height": 35
        },
        "id": "dx4gZNAPdqM5",
        "outputId": "0720697f-8a57-4a7f-bd60-b9bad8609acd"
      },
      "execution_count": 4,
      "outputs": [
        {
          "output_type": "execute_result",
          "data": {
            "text/plain": [
              "'\\n예시 1\\n\\n입력\\n5\\n9 10 5 7 8\\n\\n출력\\n3\\n\\n'"
            ],
            "application/vnd.google.colaboratory.intrinsic+json": {
              "type": "string"
            }
          },
          "metadata": {},
          "execution_count": 4
        }
      ]
    },
    {
      "cell_type": "code",
      "source": [
        "'''\n",
        "예시2\n",
        "\n",
        "입력\n",
        "6\n",
        "3 9 6 9 4 8\n",
        "\n",
        "출력\n",
        "tie\n",
        "\n",
        "'''"
      ],
      "metadata": {
        "colab": {
          "base_uri": "https://localhost:8080/",
          "height": 35
        },
        "id": "tlUVmiV0efgq",
        "outputId": "778a8c35-e6da-4c52-f2db-137afb5b3797"
      },
      "execution_count": 5,
      "outputs": [
        {
          "output_type": "execute_result",
          "data": {
            "text/plain": [
              "'\\n예시2\\n\\n입력\\n6\\n3 9 6 9 4 8\\n\\n출력\\ntie\\n\\n'"
            ],
            "application/vnd.google.colaboratory.intrinsic+json": {
              "type": "string"
            }
          },
          "metadata": {},
          "execution_count": 5
        }
      ]
    }
  ]
}
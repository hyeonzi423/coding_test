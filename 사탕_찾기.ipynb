{
  "nbformat": 4,
  "nbformat_minor": 0,
  "metadata": {
    "colab": {
      "provenance": []
    },
    "kernelspec": {
      "name": "python3",
      "display_name": "Python 3"
    },
    "language_info": {
      "name": "python"
    }
  },
  "cells": [
    {
      "cell_type": "code",
      "execution_count": null,
      "metadata": {
        "id": "s0OP314Ga7JK"
      },
      "outputs": [],
      "source": [
        "# -*- coding: utf-8 -*-\n",
        "# UTF-8 encoding when using korean\n",
        "game = int(input())\n",
        "candy = list(map(int, input().strip().split(\" \")))\n",
        "groom_win, friend_win = 0, 0\n",
        "\n",
        "for i in range (len(candy)):\n",
        "\tif candy[i] % 2 == 0:\n",
        "\t\tfriend_win += 1\n",
        "\telse:\n",
        "\t\tgroom_win += 1\n",
        "\n",
        "if groom_win == friend_win:\n",
        "\tprint(\"tie\")\n",
        "elif groom_win > friend_win:\n",
        "\tprint(groom_win)\n",
        "else:\n",
        "\tprint(friend_win)"
      ]
    }
  ]
}
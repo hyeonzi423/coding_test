{
  "nbformat": 4,
  "nbformat_minor": 0,
  "metadata": {
    "colab": {
      "provenance": [],
      "collapsed_sections": [],
      "authorship_tag": "ABX9TyN+K5MX0FC3ANJ0Bkr5Ycse",
      "include_colab_link": true
    },
    "kernelspec": {
      "name": "python3",
      "display_name": "Python 3"
    },
    "language_info": {
      "name": "python"
    }
  },
  "cells": [
    {
      "cell_type": "markdown",
      "metadata": {
        "id": "view-in-github",
        "colab_type": "text"
      },
      "source": [
        "<a href=\"https://colab.research.google.com/github/hyeonzi423/coding_test/blob/main/%EC%82%AC%ED%83%95_%EC%B0%BE%EA%B8%B0.ipynb\" target=\"_parent\"><img src=\"https://colab.research.google.com/assets/colab-badge.svg\" alt=\"Open In Colab\"/></a>"
      ]
    },
    {
      "cell_type": "code",
      "source": [
        "'''\n",
        "구름이와 친구는 사탕 게임을 하고 있었다.\n",
        "사탕 게임은 n개의 사탕이 있을 떼, 구름이와 친구가 사탕을 1개 또는 3개를 가져가는 게임\n",
        "t번의 게임이 모두 종료되었을 때, 승리한 사람의 이긴 횟수를 출력\n",
        "만약 비겼다면 tie를 출력\n",
        "첫 번째 줄에는 전체 게임의 수, 두 번째 줄에는 각 게임의 사탕의 수\n",
        "출처: 구름 위클리 알고리즘\n",
        "'''"
      ],
      "metadata": {
        "id": "oE5uqyqif3Xh"
      },
      "execution_count": null,
      "outputs": []
    },
    {
      "cell_type": "code",
      "execution_count": 3,
      "metadata": {
        "colab": {
          "base_uri": "https://localhost:8080/"
        },
        "id": "s0OP314Ga7JK",
        "outputId": "231dda8e-a506-4748-89f7-10fe31a15627"
      },
      "outputs": [
        {
          "output_type": "stream",
          "name": "stdout",
          "text": [
            "5\n",
            "9 10 5 7 8 \n",
            "3\n"
          ]
        }
      ],
      "source": [
        "game = int(input())\n",
        "candy = list(map(int, input().strip().split(\" \")))\n",
        "groom_win, friend_win = 0, 0\n",
        "\n",
        "for i in range (len(candy)):\n",
        "\tif candy[i] % 2 == 0:\n",
        "\t\tfriend_win += 1\n",
        "\telse:\n",
        "\t\tgroom_win += 1\n",
        "\n",
        "if groom_win == friend_win:\n",
        "\tprint(\"tie\")\n",
        "elif groom_win > friend_win:\n",
        "\tprint(groom_win)\n",
        "else:\n",
        "\tprint(friend_win)"
      ]
    },
    {
      "cell_type": "code",
      "source": [
        "'''\n",
        "예시 1\n",
        "\n",
        "입력\n",
        "5\n",
        "9 10 5 7 8\n",
        "\n",
        "출력\n",
        "3\n",
        "\n",
        "'''"
      ],
      "metadata": {
        "id": "dx4gZNAPdqM5"
      },
      "execution_count": null,
      "outputs": []
    },
    {
      "cell_type": "code",
      "source": [
        "'''\n",
        "예시2\n",
        "\n",
        "입력\n",
        "6\n",
        "3 9 6 9 4 8\n",
        "\n",
        "출력\n",
        "tie\n",
        "\n",
        "'''"
      ],
      "metadata": {
        "id": "tlUVmiV0efgq"
      },
      "execution_count": null,
      "outputs": []
    },
    {
      "cell_type": "code",
      "source": [
        "'''\n",
        "3개 또는 1개이기 때문에 1부터 숫자를 늘려가며 생각해보면\n",
        "홀수일 때는 구르미가 승\n",
        "짝수면 친구가 승\n",
        "''' "
      ],
      "metadata": {
        "id": "oL8u0gIPgbZU"
      },
      "execution_count": null,
      "outputs": []
    }
  ]
}
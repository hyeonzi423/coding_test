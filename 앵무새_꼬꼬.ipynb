{
  "nbformat": 4,
  "nbformat_minor": 0,
  "metadata": {
    "colab": {
      "provenance": [],
      "authorship_tag": "ABX9TyNuIV4sICAcr+pMt+EwOUPF",
      "include_colab_link": true
    },
    "kernelspec": {
      "name": "python3",
      "display_name": "Python 3"
    },
    "language_info": {
      "name": "python"
    }
  },
  "cells": [
    {
      "cell_type": "markdown",
      "metadata": {
        "id": "view-in-github",
        "colab_type": "text"
      },
      "source": [
        "<a href=\"https://colab.research.google.com/github/hyeonzi423/coding_test/blob/main/%EC%95%B5%EB%AC%B4%EC%83%88_%EA%BC%AC%EA%BC%AC.ipynb\" target=\"_parent\"><img src=\"https://colab.research.google.com/assets/colab-badge.svg\" alt=\"Open In Colab\"/></a>"
      ]
    },
    {
      "cell_type": "code",
      "execution_count": null,
      "metadata": {
        "id": "Hbqiw3GDmuuk"
      },
      "outputs": [],
      "source": [
        "'''\n",
        "첫 줄에는 정수 N이 주어짐 (N은 1 이상 100 이하)\n",
        "입력으로 여러 문장이 들어올 때, 각 문장에서 알파벳 a, e, i, o, u만 출력하기(대문자, 소문자 둘 다)\n",
        "단, 모음이 하나도 없으면 ??? 출력\n",
        "출처: 구름 비타 알고\n",
        "'''"
      ]
    },
    {
      "cell_type": "code",
      "source": [
        "num = int(input())\n",
        "\n",
        "sentence = []\n",
        "for i in range(num):\n",
        "\tsentence.append(list(input()))\n",
        "\n",
        "for i in range (num):\n",
        "\tcount = 0\n",
        "\tfor j in range( len(sentence[i]) ):\n",
        "\t\ta = sentence[i][j]\n",
        "\t\tif (a == \"a\"or a ==\"e\" or a == \"i\" or a ==\"o\" or a ==\"u\"\n",
        "\t\t\t or a == \"A\" or a ==\"E\" or a == \"I\" or a == \"O\" or a == \"U\"):\n",
        "\t\t\tprint(a, end = \"\")\n",
        "\t\t\tcount += 1\n",
        "\tif count == 0:\n",
        "\t\tprint(\"???\", end = \"\")\n",
        "\tprint( )"
      ],
      "metadata": {
        "colab": {
          "base_uri": "https://localhost:8080/"
        },
        "id": "1sd4ep9Zm0cj",
        "outputId": "62c97302-1fa0-4e54-e9d9-493338c1634b"
      },
      "execution_count": 1,
      "outputs": [
        {
          "output_type": "stream",
          "name": "stdout",
          "text": [
            "3\n",
            "Hello, World!\n",
            "I'm your father.\n",
            "What are you doing here?\n",
            "eoo\n",
            "Iouae\n",
            "aaeouoiee\n"
          ]
        }
      ]
    },
    {
      "cell_type": "code",
      "source": [
        "'''\n",
        "입력\n",
        "\n",
        "3 \n",
        "Hello, World! \n",
        "I'm your father. \n",
        "What are you doing here?\n",
        "\n",
        "출력\n",
        "eoo\n",
        "Iouae\n",
        "aaeouoiee\n",
        "\n",
        "'''"
      ],
      "metadata": {
        "id": "Q55Eu2Dfm2Ya"
      },
      "execution_count": null,
      "outputs": []
    }
  ]
}
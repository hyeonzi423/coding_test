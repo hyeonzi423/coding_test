{
  "nbformat": 4,
  "nbformat_minor": 0,
  "metadata": {
    "colab": {
      "provenance": [],
      "authorship_tag": "ABX9TyMnkXNjOQ4o7hVV8mUuK541",
      "include_colab_link": true
    },
    "kernelspec": {
      "name": "python3",
      "display_name": "Python 3"
    },
    "language_info": {
      "name": "python"
    }
  },
  "cells": [
    {
      "cell_type": "markdown",
      "metadata": {
        "id": "view-in-github",
        "colab_type": "text"
      },
      "source": [
        "<a href=\"https://colab.research.google.com/github/hyeonzi423/groom/blob/main/%EC%B0%A8%EB%B3%84%EC%84%A0%EA%B1%B0.ipynb\" target=\"_parent\"><img src=\"https://colab.research.google.com/assets/colab-badge.svg\" alt=\"Open In Colab\"/></a>"
      ]
    },
    {
      "cell_type": "code",
      "execution_count": null,
      "metadata": {
        "id": "HMCwLw2RWCY8"
      },
      "outputs": [],
      "source": [
        "import itertools\n",
        "from collections import Counter\n",
        "\n",
        "user_input = input()\n",
        "n, m, k = map(int, user_input.split())\n",
        "res = []\n",
        "\n",
        "def store_list(s):\n",
        "\tif len(s) == 1:\n",
        "\t\tres.append(list(s))\n",
        "\telse:\n",
        "\t\tres.append(s.split())\n",
        "\treturn res\n",
        "\n",
        "def most_frequent(data):\n",
        "\treturn max(data, key=data.count)\n",
        "\n",
        "for i in range(3):\n",
        "\ttmp_input = input()\n",
        "\tif i == 0:\n",
        "\t\tfor j in range(2):\n",
        "\t\t\tstore_list(tmp_input)\n",
        "\telif i == 1:\n",
        "\t\tfor j in range(3):\n",
        "\t\t\tstore_list(tmp_input)\n",
        "\telse:\n",
        "\t\tstore_list(tmp_input)\n",
        "\n",
        "res = list(itertools.chain(*res))\n",
        "res = list(map(int,res))\n",
        "res.sort()\n",
        "print(most_frequent(res))\n",
        "\t"
      ]
    }
  ]
}
{
  "nbformat": 4,
  "nbformat_minor": 0,
  "metadata": {
    "colab": {
      "provenance": [],
      "authorship_tag": "ABX9TyPXd/SBVZYQUolqx/tcGByh",
      "include_colab_link": true
    },
    "kernelspec": {
      "name": "python3",
      "display_name": "Python 3"
    },
    "language_info": {
      "name": "python"
    }
  },
  "cells": [
    {
      "cell_type": "markdown",
      "metadata": {
        "id": "view-in-github",
        "colab_type": "text"
      },
      "source": [
        "<a href=\"https://colab.research.google.com/github/hyeonzi423/coding_test/blob/main/%EA%B5%90%EC%88%98%EB%8B%98%EC%9D%98_%EA%B3%BC%EC%A0%9C_%ED%8F%AD%ED%83%84.ipynb\" target=\"_parent\"><img src=\"https://colab.research.google.com/assets/colab-badge.svg\" alt=\"Open In Colab\"/></a>"
      ]
    },
    {
      "cell_type": "code",
      "execution_count": null,
      "metadata": {
        "id": "zmZTkEwytW3w"
      },
      "outputs": [],
      "source": [
        "'''\n",
        "과제를 하던 중 새로운 과제가 생기면 기존에 하던 과제는 잠시 미뤄두고,\n",
        "새로운 과제를 수행하기 시작합니다.\n",
        "새로운 과제가 끝나면, 기존의 과제를 마저 수행합니다.\n",
        "새로운 과제를 수행하던 도중 기존 과제의 마감 날짜를 넘겨버리면 그 과제는 그대로 버립니다\n",
        "'''"
      ]
    },
    {
      "cell_type": "code",
      "source": [
        "# -*- coding: utf-8 -*-\n",
        "# UTF-8 encoding when using korean\n",
        "game = int(input())\n",
        "start_list = []\n",
        "end_list = []\n",
        "check = True\n",
        "\n",
        "for i in range(game):\n",
        "\tstart, end = map(str, input().split())\n",
        "\tstart_m, start_d = map(int, start.split('/'))\n",
        "\tend_m, end_d = map(int, end.split('/'))\n",
        "\tstart_list.append(int(start_m * 100 + start_d))\n",
        "\tend_list.append(int(end_m * 100 + end_d))\n",
        "\t\n",
        "for a in range(game):\n",
        "\tmin_start, min_start_index = max(start_list), start_list.index(max(start_list))\n",
        "\tdel start_list[min_start_index]\n",
        "\tfor b in range(len(end_list)):\n",
        "\t\tif end_list[min_start_index] > end_list[b]:\n",
        "\t\t\tcheck = False\n",
        "\t\t\tbreak\n",
        "\tdel end_list[min_start_index]\n",
        "\tif check == False:\n",
        "\t\tbreak\n",
        "\t\t\n",
        "if check == True:\n",
        "\tprint(\"Yes\")\n",
        "else:\n",
        "\tprint(\"No\")"
      ],
      "metadata": {
        "colab": {
          "base_uri": "https://localhost:8080/"
        },
        "id": "4GTa8qtkt1jQ",
        "outputId": "23b61a32-42f7-47af-fa2e-0550a6d67fe8"
      },
      "execution_count": 1,
      "outputs": [
        {
          "output_type": "stream",
          "name": "stdout",
          "text": [
            "5\n",
            "5/1 7/1\n",
            "5/1 7/1\n",
            "4/3 8/4\n",
            "3/4 9/3\n",
            "3/4 10/3\n",
            "Yes\n"
          ]
        }
      ]
    },
    {
      "cell_type": "code",
      "source": [
        "'''\n",
        "예시\n",
        "\n",
        "입력\n",
        "5\n",
        "5/1 7/1\n",
        "5/1 7/1\n",
        "4/3 8/4\n",
        "3/4 9/3\n",
        "3/4 10/3\n",
        "\n",
        "출력\n",
        "Yes\n",
        "\n",
        "입력\n",
        "10\n",
        "6/14 10/20\n",
        "6/17 8/25\n",
        "4/3 7/22\n",
        "5/4 9/3\n",
        "9/7 12/27\n",
        "1/25 12/17\n",
        "2/27 3/5\n",
        "5/11 10/20\n",
        "2/12 7/14\n",
        "2/27 8/13\n",
        "\n",
        "출력\n",
        "No\n",
        "'''"
      ],
      "metadata": {
        "id": "bpFQ_g0Jt3ue"
      },
      "execution_count": null,
      "outputs": []
    },
    {
      "cell_type": "code",
      "source": [
        "'''\n",
        "주어진 테스트 케이스 4개는 성공하였으나\n",
        "제출을 누르고 10가지 테스트를 확인해보니\n",
        "2개는 실패, 1개는 타임아웃으로 실패했다\n",
        "어느 부분이 틀린지 모르겠어서 월요일에 확인하도록\n",
        "'''"
      ],
      "metadata": {
        "id": "qUD2VeakuQlx"
      },
      "execution_count": null,
      "outputs": []
    }
  ]
}
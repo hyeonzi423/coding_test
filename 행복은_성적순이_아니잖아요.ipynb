{
  "nbformat": 4,
  "nbformat_minor": 0,
  "metadata": {
    "colab": {
      "provenance": [],
      "authorship_tag": "ABX9TyMA5rz1gkahcIwNBCs2QjT6",
      "include_colab_link": true
    },
    "kernelspec": {
      "name": "python3",
      "display_name": "Python 3"
    },
    "language_info": {
      "name": "python"
    }
  },
  "cells": [
    {
      "cell_type": "markdown",
      "metadata": {
        "id": "view-in-github",
        "colab_type": "text"
      },
      "source": [
        "<a href=\"https://colab.research.google.com/github/hyeonzi423/coding_test/blob/main/%ED%96%89%EB%B3%B5%EC%9D%80_%EC%84%B1%EC%A0%81%EC%88%9C%EC%9D%B4_%EC%95%84%EB%8B%88%EC%9E%96%EC%95%84%EC%9A%94.ipynb\" target=\"_parent\"><img src=\"https://colab.research.google.com/assets/colab-badge.svg\" alt=\"Open In Colab\"/></a>"
      ]
    },
    {
      "cell_type": "code",
      "source": [
        "'''\n",
        "구름이의 성적을 확인하는 문제\n",
        "구름이가 듣는 수업의 수 t\n",
        "각 과목 별 전체 학생 수 l\n",
        "구름이의 등수 s\n",
        "과목별 A+ 성적 비율 n\n",
        "과목의 수행평가의 개수 k\n",
        "A+ 과목의 수행 평가의 과락 점수 m\n",
        "수행평가 점수 v가 k개가 공백을 두고 주어진다\n",
        "이때 구름이가 모든 과목에서 A+을 받으면 1, 아니면 0을 출력한다\n",
        "출처: 구름 위클리 알고리즘\n",
        "'''"
      ],
      "metadata": {
        "id": "AKx8t7gXhhk4"
      },
      "execution_count": null,
      "outputs": []
    },
    {
      "cell_type": "code",
      "execution_count": 2,
      "metadata": {
        "colab": {
          "base_uri": "https://localhost:8080/"
        },
        "id": "9bacAZyOhcRc",
        "outputId": "4c6867f3-8209-4830-ce02-fd69efa821cd"
      },
      "outputs": [
        {
          "output_type": "stream",
          "name": "stdout",
          "text": [
            "2\n",
            "100 9 10 3 10 11 15 20\n",
            "100 21 20 3 20 21 22 23\n",
            "0\n"
          ]
        }
      ],
      "source": [
        "# -*- coding: utf-8 -*-\n",
        "# UTF-8 encoding when using korean\n",
        "user_input = input()\n",
        "class_N = int(user_input)\n",
        "count = 0\n",
        "\n",
        "for i in range(class_N):\n",
        "\ttmp = []\n",
        "\tscore_check = 0\n",
        "\tscore_tmp = input().rstrip()\n",
        "\ttmp = list(map(int,score_tmp.split(\" \")))\n",
        "\tstudent, rank, percent, hw, score = tmp[0], tmp[1], tmp[2], tmp[3], tmp[4]\n",
        "\tscores = tmp[5:]\n",
        "\tif (rank <= (student * percent)//100):\n",
        "\t\tfor i in range(len(scores)):\n",
        "\t\t\tif scores[i] > score:\n",
        "\t\t\t\tscore_check += 1\n",
        "\t\t\telse:\n",
        "\t\t\t\tscore_check = score_check \n",
        "\t\tif score_check == len(scores):\n",
        "\t\t\tcount += 1\n",
        "\telse:\n",
        "\t\tcount = count\n",
        "\t\t\t\n",
        "if count == class_N:\n",
        "\tprint(1)\n",
        "else:\n",
        "\tprint(0)"
      ]
    },
    {
      "cell_type": "code",
      "source": [
        "'''\n",
        "예시\n",
        "\n",
        "입력 1\n",
        "\n",
        "2\n",
        "100 9 10 3 10 11 15 20\n",
        "100 21 20 3 20 21 22 23\n",
        "\n",
        "출력\n",
        "0\n",
        "\n",
        "입력 2\n",
        "\n",
        "4\n",
        "8 1 100 8 41 81 61 88 75 88 95 54 76\n",
        "10 1 100 2 41 54 52\n",
        "4 2 100 5 41 92 83 89 97 92\n",
        "3 2 100 7 41 50 65 86 65 67 65 56\n",
        "\n",
        "출력\n",
        "1\n",
        "\n",
        "'''"
      ],
      "metadata": {
        "id": "4PAUEClLht0K"
      },
      "execution_count": null,
      "outputs": []
    },
    {
      "cell_type": "code",
      "source": [
        "'''\n",
        "우선 입력값을 받아와서 정의된 순서대로 저장하고, 조건이 맞는지 확인해주었다.\n",
        "A+ 비율 안에 들어가는지는 구름이의 등수 < (학생 수 * (A+비율 n))//100\n",
        "//는 나눗셈을 정수형으로 나타내줌\n",
        "과제의 각 점수가 과락 점수를 넘는지는 리스트에 저장 후 반복문을 통해 확인\n",
        "둘 다 모두 만족하면 count를 1 올려서\n",
        "각 과목 별로 확인 후 전체 과목의 갯수와 count 수가 같다면 1출력 아니면 0 출력으로\n",
        "코드를 작성해보았다.\n",
        "'''"
      ],
      "metadata": {
        "id": "LeaujeRgiNG6"
      },
      "execution_count": null,
      "outputs": []
    }
  ]
}